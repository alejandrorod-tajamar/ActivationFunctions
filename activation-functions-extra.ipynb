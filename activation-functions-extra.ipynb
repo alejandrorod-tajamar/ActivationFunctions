{
 "cells": [
  {
   "cell_type": "markdown",
   "id": "46de0960",
   "metadata": {},
   "source": [
    "# (Almost) all the activation functions, illustrated\n",
    "\n",
    "_This notebook was originally created by Rob Leckeby at Agile Sceintific._\n",
    "\n",
    "Some activation functions are listed below, then a function to plot them all with their derivatives.\n",
    "\n",
    "Credit to [Dishashree Gupta](https://www.analyticsvidhya.com/blog/2020/01/fundamentals-deep-learning-activation-functions-when-to-use-them/) for the list of functions."
   ]
  },
  {
   "cell_type": "markdown",
   "id": "0eca3d53",
   "metadata": {},
   "source": [
    "## The sigmoid function\n",
    "\n",
    "A basic, classical nonlinear function which effectively implements logistic regression in a perceptron."
   ]
  },
  {
   "cell_type": "code",
   "execution_count": null,
   "id": "c6a05eb7",
   "metadata": {},
   "outputs": [],
   "source": [
    "import numpy as np\n",
    "\n",
    "\n",
    "def sigmoid(z, *, derivative=False):\n",
    "    \"\"\"\n",
    "    The sigmoid, or logistic function.\n",
    "    \"\"\"\n",
    "    if derivative:\n",
    "        # In the backward case, z is really sigmoid(z).\n",
    "        return z * (1 - z)\n",
    "    return 1 / (1 + np.exp(-z))"
   ]
  },
  {
   "cell_type": "markdown",
   "id": "be39c967",
   "metadata": {},
   "source": [
    "In a neural network, we have in incoming signal `x`, over which we compute a linear function, `z = wx + b`, where `w` is a set of weights and `b` a set of biases on a given set of neurons.\n",
    "\n",
    "We don't need `x`, `b` and `w`, we can just focus on what happens to the computed signal `wx + b` when it passed through our nonlinear function. So let's define `z`, a range of possible values for the computed neural signal:"
   ]
  },
  {
   "cell_type": "code",
   "execution_count": null,
   "id": "e6cd2b68",
   "metadata": {},
   "outputs": [],
   "source": [
    "z = np.linspace(-5, 5, 400)"
   ]
  },
  {
   "cell_type": "markdown",
   "id": "cc328af4",
   "metadata": {},
   "source": [
    "Now we can compute the activation `a` and its derivative `a_`. Now, although the symbolic definition of the derivative is `sigmoid(z) * (1 - sigmoid(z)`, we defined it as `z * (1 - z)`, because when we do this calculation inside a neural network, the derivative is being computed on `a`, the result of `sigmoid(z)`. So we pass `a` to the function when we calculate the derivative."
   ]
  },
  {
   "cell_type": "code",
   "execution_count": null,
   "id": "e9bcef1e",
   "metadata": {},
   "outputs": [],
   "source": [
    "a = sigmoid(z)\n",
    "a_ = sigmoid(a, derivative=True)"
   ]
  },
  {
   "cell_type": "markdown",
   "id": "4de98e0a",
   "metadata": {},
   "source": [
    "Now we can plot these two arrays:"
   ]
  },
  {
   "cell_type": "code",
   "execution_count": null,
   "id": "f8d66467",
   "metadata": {},
   "outputs": [],
   "source": [
    "import matplotlib.pyplot as plt\n",
    "\n",
    "def plot(z, a, a_):\n",
    "    fig, axs = plt.subplots(ncols=2, figsize=(15, 4), sharey=True)\n",
    "    ys, titles = [a, a_], ['Forward function', 'Derivative']\n",
    "    for ax, y, title in zip(axs, ys, titles):\n",
    "        ax.set_title(title)\n",
    "        ax.plot(z, y, lw=3)\n",
    "        ax.grid(c='k', alpha=0.1)\n",
    "        ax.axhline(0, c='k', alpha=0.5)\n",
    "        ax.axvline(0, c='k', alpha=0.5)\n",
    "\n",
    "plot(z, a, a_)"
   ]
  },
  {
   "cell_type": "markdown",
   "id": "1b5ea14e",
   "metadata": {},
   "source": [
    "We note that the maximum gradient is quite small (0.25), so activations will get attenuated as they pass through a network using this activation function. This is one of the reasons the `tanh` function became popular."
   ]
  },
  {
   "cell_type": "markdown",
   "id": "28f11999",
   "metadata": {},
   "source": [
    "## `tanh`\n",
    "\n",
    "We could use NumPy to compute this, but we can also use the exponential definition:\n",
    "\n",
    "$$ \\tanh x = \\frac{e^{2x} - 1} {e^{2x} + 1} $$"
   ]
  },
  {
   "cell_type": "code",
   "execution_count": null,
   "id": "794f9561",
   "metadata": {},
   "outputs": [],
   "source": [
    "def tanh(z, *, derivative=False):\n",
    "    \"\"\"\n",
    "    The tanh function and its derivative.\n",
    "    \"\"\"\n",
    "    if derivative:\n",
    "        return 1 - z**2\n",
    "    return (np.exp(2 * z) - 1) / (np.exp(2 * z) + 1)"
   ]
  },
  {
   "cell_type": "code",
   "execution_count": null,
   "id": "0b7187fc",
   "metadata": {},
   "outputs": [],
   "source": [
    "a = tanh(z)\n",
    "a_ = tanh(a, derivative=True)"
   ]
  },
  {
   "cell_type": "code",
   "execution_count": null,
   "id": "a292c06b",
   "metadata": {},
   "outputs": [],
   "source": [
    "plot(z, a, a_)"
   ]
  },
  {
   "cell_type": "markdown",
   "id": "01f32b06",
   "metadata": {},
   "source": [
    "---\n",
    "\n",
    "## Lots more functions!"
   ]
  },
  {
   "cell_type": "code",
   "execution_count": null,
   "id": "c68a9f73",
   "metadata": {},
   "outputs": [],
   "source": [
    "def linear(z, *, alpha=1, derivative=False):\n",
    "    \"\"\"\n",
    "    A simple scaling function.\n",
    "    \"\"\"\n",
    "    if derivative:\n",
    "        return np.ones_like(z) * alpha\n",
    "    return alpha * z\n",
    "\n",
    "def binary_step(z, *, derivative=False):\n",
    "    \"\"\"\n",
    "    The Heaviside function.\n",
    "    \"\"\"\n",
    "    if derivative:\n",
    "        return np.zeros_like(z)\n",
    "    return 1 * (z > 0)\n",
    "    \n",
    "def relu(z, *, derivative=False):\n",
    "    \"\"\"\n",
    "    Rectified Linear Unit (ReLU) (Hahnloser et al., 2000;\n",
    "    Jarrett et al., 2009; Nair & Hinton, 2010). Special\n",
    "    case of LReLU, see below.\n",
    "    \"\"\"\n",
    "    if derivative:\n",
    "        return 1 * (z > 0)\n",
    "    return z * (z > 0)\n",
    "\n",
    "def leaky_relu(z, *, alpha=0.01, derivative=False):\n",
    "    \"\"\"\n",
    "    Leaky ReLU (LReLU). (Maas et al., 2013).\n",
    "    The ReLU is a special case where alpha = 0.\n",
    "    \"\"\"\n",
    "    if derivative:\n",
    "        return alpha * (z <= 0) + (z > 0)\n",
    "    return np.maximum(alpha * z, z) \n",
    "\n",
    "def elu(z, *, alpha=1, derivative=False):\n",
    "    \"\"\"\n",
    "    Exponential Linear Unit (ELU) (Clevert et al., 2015).\n",
    "    \"\"\"\n",
    "    if derivative:\n",
    "        return np.where(z < 0, alpha * np.exp(z), 1)\n",
    "    return np.where(z < 0, alpha * (np.exp(z) - 1), z)\n",
    "\n",
    "def swish(z, *, derivative=False):\n",
    "    \"\"\"\n",
    "    SWISH: A self-generated activation function.\n",
    "    https://arxiv.org/pdf/1710.05941v1.pdf\n",
    "    Special case of E-Swish, see below.\n",
    "    \"\"\"\n",
    "    if derivative:\n",
    "        return z * sigmoid(z) + sigmoid(z) * (1 - z * sigmoid(z))\n",
    "    return z * sigmoid(z)\n",
    "\n",
    "def eswish(z, *, beta=1, derivative=False):\n",
    "    \"\"\"\n",
    "    Eswish https://arxiv.org/abs/1801.07145\n",
    "    Eswish is a generalization of Swish,\n",
    "    multiplied by a parameter beta.\n",
    "    \"\"\"\n",
    "    if derivative:\n",
    "        return beta * z * sigmoid(z) + sigmoid(z) * (beta - beta * z * sigmoid(z))\n",
    "    return beta * z * sigmoid(z)"
   ]
  },
  {
   "cell_type": "markdown",
   "id": "47c9e36c",
   "metadata": {},
   "source": [
    "Let's plot all of these."
   ]
  },
  {
   "cell_type": "code",
   "execution_count": null,
   "id": "34078d10",
   "metadata": {},
   "outputs": [],
   "source": [
    "from cycler import cycler\n",
    "\n",
    "x = np.linspace(-4, 4, 400)\n",
    "functions = [linear, binary_step, sigmoid, tanh, relu, leaky_relu, elu, eswish]\n",
    "\n",
    "cyc3 = cycler(color=[u'#1f77b4', u'#ff7f0e', u'#2ca02c'])\n",
    "props_deriv = {'lw': 2.5, 'ls': '--', 'alpha': 0.67}\n",
    "props_forward = {'lw': 2.5, 'ls': '-', 'alpha': 1.0}\n",
    "props_hvlines = {'c': 'k', 'lw': 1.5, 'alpha': 0.3}\n",
    "\n",
    "fig, axs = plt.subplots(nrows=2, ncols=4, figsize=(16, 8))\n",
    "fig.suptitle('Activation functions and their derivatives', size=16)\n",
    "\n",
    "for f, ax in zip(functions, axs.flat):\n",
    "    ax.set_title(f.__name__.upper().replace('_', ' '))\n",
    "    \n",
    "    for d in (False, True):  # Forward and backward functions.\n",
    "        props = props_deriv if d else props_forward\n",
    "        if len(kwargs := f.__kwdefaults__) == 1:\n",
    "            ax.set_prop_cycle(cycler(color=[u'#1f77b4']))\n",
    "            y = f(x)\n",
    "            if d:\n",
    "                y = f(y, derivative=d)\n",
    "            ax.plot(x, y, label=None, **props)\n",
    "        else:\n",
    "            arg, _ = kwargs.keys()\n",
    "            vals = [1, 1.5, 2] if f is eswish else [0.05, 0.5, 1]\n",
    "            ax.set_prop_cycle(cyc3)\n",
    "            for v in vals:\n",
    "                kwargs.update({arg: v, 'derivative': d})\n",
    "                y = f(x, **kwargs)\n",
    "                label = f\"{arg}: {v}\" if not d else None\n",
    "                ax.plot(x, y, label=label, **props)\n",
    "            ax.legend(loc=4)\n",
    "        \n",
    "    ax.grid()\n",
    "    ax.axhline(0, -3, 3, **props_hvlines)\n",
    "    ax.axvline(0, -3, 3, **props_hvlines)\n",
    "    ax.set_xlim(-3, 3); ax.set_ylim(-3, 3)            \n",
    "        \n",
    "plt.subplots_adjust(hspace=0.4)\n",
    "plt.show()"
   ]
  },
  {
   "cell_type": "markdown",
   "id": "639ca770",
   "metadata": {},
   "source": [
    "---\n",
    "\n",
    "&copy; Matt Hall 2024 and Rob Leckenby 2021, licenced CC BY, please share and re-use"
   ]
  },
  {
   "cell_type": "markdown",
   "id": "7336c05b",
   "metadata": {},
   "source": [
    "# **Activation Functions in Deep Learning**"
   ]
  },
  {
   "cell_type": "markdown",
   "id": "48170f05",
   "metadata": {},
   "source": [
    "## **What are Activation Functions?**\n",
    "In artificial neural networks, each neuron forms a weighted sum of its inputs and passes the resulting scalar value through a function referred to as an activation function or transfer function. If a neuron has n inputs $x_1, x_2, ..., x_n$ then the output of a neuron is:\n",
    "$$a = g(w_1x_1 + w_2x_2 + w_3x_3 + ... + w_nx_n + b)$$\n",
    "The function $g$ is referred to as the activation function. If the function $g$ is taken as the linear function $g(z) = z$ then the neuron performs linear regression or classification. In general $g$ is taken to be a nonlinear function to do nonlinear regression and solve classification problems that are not linearly separable. When $g$ is taken to be a sigmoidal or 's' shaped function varying from 0 to 1 or -1 to 1, the output value of the neuron can be interpreted as a YES/NO answer or binary decision. However saturating activation function can cause the vanishing gradient problem in deep networks. Replacing saturating sigmoidal activation functions with activation functions like ReLU that have larger derivative values allowed deeper networks to be trained for the first time. Non-monotonic and oscillating activation functions that significantly outperform ReLU have since been found. In particular oscillating activation functions improve gradient flow, speedup training and allow single neurons to learn the XOR function like certain human cerebral neurons.\n",
    "\n",
    "<img src=\"https://miro.medium.com/v2/resize:fit:1170/1*abHGVMc8bTFVFSvB6ZYaBg.png\" width=\"40%\">"
   ]
  },
  {
   "cell_type": "markdown",
   "id": "68418035",
   "metadata": {},
   "source": [
    "## **Why Activation Functions are needed?**\n",
    "Activation functions are essential in neural networks for the following reasons:\n",
    "\n",
    "1. **Introduce Non-Linearity**: They allow networks to learn complex, non-linear relationships in data, which linear models can't capture.\n",
    "   \n",
    "2. **Enable Deep Learning**: They help in learning hierarchical feature representations, allowing deeper layers to capture more abstract patterns.\n",
    "   \n",
    "3. **Universal Approximation**: With activation functions, networks can approximate any continuous function, as per the Universal Approximation Theorem.\n",
    "\n",
    "4. **Gradient-Based Optimization**: They provide the necessary gradients for training via backpropagation, making learning possible and efficient.\n",
    "\n",
    "5. **Biological Inspiration**: They mimic the non-linear activation of biological neurons, adding biological plausibility to artificial models.\n",
    "\n",
    "6. **Output Characteristics**: Different activation functions offer various output ranges, suited for specific tasks like classification.\n"
   ]
  },
  {
   "cell_type": "markdown",
   "id": "05a07de5",
   "metadata": {},
   "source": [
    "### **Code Example**"
   ]
  },
  {
   "cell_type": "markdown",
   "id": "f56a2e89",
   "metadata": {},
   "source": [
    "#### **Import Required Libraries**"
   ]
  },
  {
   "cell_type": "code",
   "execution_count": null,
   "id": "4867b8a8",
   "metadata": {},
   "outputs": [],
   "source": [
    "!pip install mlxtend"
   ]
  },
  {
   "cell_type": "code",
   "execution_count": null,
   "id": "01df84b6",
   "metadata": {},
   "outputs": [],
   "source": [
    "import numpy as np\n",
    "import pandas as pd\n",
    "import matplotlib.pyplot as plt\n",
    "import seaborn as sns\n",
    "from sklearn.datasets import make_classification\n",
    "import tensorflow as tf\n",
    "from tensorflow import keras\n",
    "from keras.models import Sequential\n",
    "from keras.layers import Dense, Dropout\n",
    "from keras.optimizers import Adam\n",
    "from mlxtend.plotting import plot_decision_regions\n",
    "\n",
    "import warnings\n",
    "warnings.filterwarnings(\"ignore\")\n",
    "\n",
    "plt.rcParams[\"font.family\"] = \"DeJavu Serif\"\n",
    "plt.rcParams[\"font.serif\"] = \"Times New Roman\""
   ]
  },
  {
   "cell_type": "markdown",
   "id": "f210f661",
   "metadata": {},
   "source": [
    "#### **Make a Dataset**"
   ]
  },
  {
   "cell_type": "code",
   "execution_count": null,
   "id": "84dc7f51",
   "metadata": {},
   "outputs": [],
   "source": [
    "# Generate a classification dataset\n",
    "X, y = make_classification(\n",
    "    n_samples=200, \n",
    "    n_features=2, \n",
    "    n_informative=2, \n",
    "    n_redundant=0,\n",
    "    n_clusters_per_class=1,\n",
    "    class_sep=1,\n",
    "    random_state=32)\n",
    "\n",
    "# Plot the data\n",
    "sns.scatterplot(x=X[:, 0], y=X[:, 1], hue=y);"
   ]
  },
  {
   "cell_type": "markdown",
   "id": "04d0ab4b",
   "metadata": {},
   "source": [
    "#### **Neural Network with Linear Activation in the Hidden Layers**"
   ]
  },
  {
   "cell_type": "code",
   "execution_count": null,
   "id": "cce10365",
   "metadata": {},
   "outputs": [],
   "source": [
    "# Build a neural network with linear activation used in the hidden layers\n",
    "model = Sequential()\n",
    "\n",
    "model.add(Dense(128, activation=\"linear\", input_dim=2))\n",
    "model.add(Dense(128, activation=\"linear\"))\n",
    "model.add(Dense(1, activation=\"sigmoid\"))\n",
    "\n",
    "model.compile(optimizer=Adam(learning_rate=0.01), loss=\"binary_crossentropy\", metrics=[\"accuracy\"])\n",
    "\n",
    "history = model.fit(X, y, epochs=500, validation_split=0.2, verbose=1)"
   ]
  },
  {
   "cell_type": "code",
   "execution_count": null,
   "id": "3090f9da",
   "metadata": {},
   "outputs": [],
   "source": [
    "# Plot the decision region\n",
    "plot_decision_regions(X, y, clf=model, legend=2);"
   ]
  },
  {
   "cell_type": "markdown",
   "id": "91c3bde6",
   "metadata": {},
   "source": [
    "#### **Neural Network with Non-Linear Activation in the Hidden Layers**"
   ]
  },
  {
   "cell_type": "code",
   "execution_count": null,
   "id": "b69f0edd",
   "metadata": {},
   "outputs": [],
   "source": [
    "# Build a neural network with non-linear activation used in the hidden layers\n",
    "model = Sequential()\n",
    "\n",
    "model.add(Dense(128, activation=\"relu\", input_dim=2))\n",
    "model.add(Dense(128, activation=\"relu\", input_dim=2))\n",
    "model.add(Dense(1, activation=\"sigmoid\"))\n",
    "\n",
    "model.compile(optimizer=Adam(learning_rate=0.01), loss=\"binary_crossentropy\", metrics=[\"accuracy\"])\n",
    "\n",
    "history = model.fit(X, y, epochs=500, validation_split=0.2, verbose=1)"
   ]
  },
  {
   "cell_type": "code",
   "execution_count": null,
   "id": "84d5ff64",
   "metadata": {},
   "outputs": [],
   "source": [
    "# Plot the decision region\n",
    "plot_decision_regions(X, y, clf=model, legend=2);"
   ]
  },
  {
   "cell_type": "markdown",
   "id": "ab0db8a2",
   "metadata": {},
   "source": [
    "#### **Conclusion**\n",
    "The first model with linear activations can only separate the data with a straight line, limiting its ability to handle complex patterns.\n",
    "The second model with ReLU activations in the hidden layers can create a more flexible and complex decision boundary, leading to better performance on non-linear data distributions."
   ]
  },
  {
   "cell_type": "markdown",
   "id": "6512d6d1",
   "metadata": {},
   "source": [
    "## **Characteristics of an Ideal Activation Function**\n",
    "An ideal activation function should have the following characteristics:\n",
    "\n",
    "1. **Non-Linear**: Non-linearity allows the network to model complex patterns and relationships in the data, enabling the network to learn and approximate any function, not just linear relationships.\n",
    "2. **Differentiable**: Differentiability ensures that the activation function can be used in gradient-based optimization methods, such as backpropagation.\n",
    "3. **Computationally Inexpensive**: The activation function should be computationally efficient to evaluate, especially for large-scale neural networks, to ensure that training and inference are feasible and fast.\n",
    "4. **Zero-Centered**: A zero-centered activation function outputs values that are centered around zero, helping to ensure that the gradients are balanced and preventing one side of the weights from dominating.\n",
    "5. **Non-Saturating**: Non-saturating activation functions do not suffer from the vanishing gradient problem, where gradients become very small, leading to slow learning or no learning at all. For example, functions like ReLU do not saturate in the positive region, allowing gradients to remain significant, thus helping deep networks to continue learning effectively as the number of layers increases.\n",
    "6. **Smooth**: Smoothness ensures that the activation function doesn’t introduce any abrupt changes in the output, which can help in more stable learning.\n",
    "7. **Monotonic**: A monotonic function ensures that the gradient doesn't change signs, which can simplify the optimization process."
   ]
  },
  {
   "cell_type": "markdown",
   "id": "03805efa",
   "metadata": {},
   "source": [
    "## **Different Types of Activation Functions**\n",
    "### **Sigmoid Activation Function**\n",
    "The sigmoid activation function is a popular activation function used in neural networks, especially in binary classification tasks. It is defined by the following formula:\n",
    "$$\\sigma(x) = \\frac{1}{1 + e^{-x}}$$\n",
    "where $x$ is the input to the neuron.\n",
    "\n",
    "<img src=\"https://miro.medium.com/v2/resize:fit:1400/1*6A3A_rt4YmumHusvTvVTxw.png\" width=\"60%\">\n",
    "\n",
    "\n",
    "**Characteristics of the Sigmoid Activation Function:**\n",
    "\n",
    "1. **Output Range**: The output of the sigmoid function ranges between 0 and 1. It is useful for models that need to predict probabilities or binary outcomes.\n",
    "\n",
    "2. **Non-Linearity**: The sigmoid function is non-linear, allowing the network to capture complex patterns.\n",
    "\n",
    "3. **Smooth and Differentiable**: The sigmoid function is smooth and differentiable, making it suitable for gradient-based optimization methods like backpropagation.\n",
    "\n",
    "4. **Saturating**: The sigmoid function can saturate, meaning that for very large or very small input values, the output approaches 1 or 0, respectively. This can lead to very small gradients (vanishing gradients), slowing down learning in deep networks.\n",
    "\n",
    "5. **Not Zero-Centered**: The output is always positive, which can lead to inefficiencies during training since the gradients will also always be positive or always negative.\n",
    "   \n",
    "6. **Applications**: Commonly used in the output layer of binary classification models. Also used in the hidden layers of older neural network models, though ReLU and its variants are more commonly used now due to better performance in deeper networks."
   ]
  },
  {
   "cell_type": "markdown",
   "id": "6505be4f",
   "metadata": {},
   "source": [
    "### **Tanh Activation Function**\n",
    "The tanh (hyperbolic tangent) activation function is another widely used activation function in neural networks. It is defined by the following formula:\n",
    "$$\\text{tanh}(x) = \\frac{(e^x - e^{-x})}{e^x + e^{-x}}$$\n",
    "where $x$ is the input to the neuron.\n",
    "\n",
    "<img src=\"https://qph.cf2.quoracdn.net/main-qimg-f1baf29cfdb09202b18e2179f4f41bfc\" width=\"60%\">\n",
    "\n",
    "**Characteristics of the Tanh Activation Function:**\n",
    "\n",
    "1. **Output Range**: The output of the tanh function ranges between $-1$ and $1$. It provides a symmetric output centered around zero, which is an advantage over the sigmoid function.\n",
    "\n",
    "2. **Non-Linearity**: Like the sigmoid function, tanh is non-linear, allowing the network to model complex relationships.\n",
    "   \n",
    "3.  **Smooth and Differentiable**: The tanh function is smooth and differentiable, making it suitable for gradient-based optimization methods like backpropagation.\n",
    "   \n",
    "4. **Zero-Centered**: Unlike the sigmoid function, tanh is zero-centered, meaning that the output is symmetrically distributed around zero. This helps in balancing the gradients and making learning more efficient.\n",
    "   \n",
    "5. **Saturating**: Tanh can also saturate, meaning for very large or very small input values, the output approaches 1 or -1. This can lead to the vanishing gradient problem, similar to the sigmoid function.\n",
    "   \n",
    "6. **Applications**: Often used in hidden layers of neural networks. It was more commonly used before ReLU and its variants became popular due to better performance in deep networks."
   ]
  },
  {
   "cell_type": "markdown",
   "id": "d4f248cc",
   "metadata": {},
   "source": [
    "### **ReLU Activation Function**\n",
    "The ReLU (Rectified Linear Unit) activation function is one of the most widely used activation functions in modern neural networks, especially in deep learning. It is defined by the following formula:\n",
    "$$\\text{ReLU}(x) = \\text{max}(0, x)$$\n",
    "where $ x $ is the input to the neuron.\n",
    "\n",
    "<img src=\"https://wikidocs.net/images/page/164363/Fig_19_deivrelu.jpg\" width=\"60%\">\n",
    "\n",
    "**Characteristics of the ReLU Activation Function:**\n",
    "\n",
    "1. **Output Range**: The output of the ReLU function ranges from $0$ to $\\infty$. The function outputs zero for any negative input and the input itself for any positive input.\n",
    "   \n",
    "2. **Non-Linearity**: ReLU is non-linear, allowing the network to model complex patterns and interactions between features.\n",
    "   \n",
    "3. **Computationally Efficient**: ReLU is simple to compute since it only involves a comparison operation, making it computationally efficient.\n",
    "   \n",
    "4. **Non-Saturating**: Unlike sigmoid and tanh, ReLU does not saturate for positive inputs, which helps avoid the vanishing gradient problem. This allows for faster learning in deep networks.\n",
    "   \n",
    "5. **Not Zero-Centered**: The output of ReLU is not zero-centered since it only outputs non-negative values. This can sometimes cause inefficiencies in learning, but these are usually outweighed by the benefits.\n",
    "\n",
    "6. **Sparse Activation**: ReLU leads to sparse activation, meaning that in a large network, many neurons will output zero for a given input, which can help with computational efficiency and reducing overfitting.\n",
    "   \n",
    "7. **Potential Issue (Dying ReLU)**: A potential drawback of ReLU is the \"dying ReLU\" problem, where neurons can get stuck outputting zero and stop learning. This happens if the weights are updated in such a way that they always produce a negative input for certain neurons.\n",
    "   \n",
    "8. **Variants**: Variants like Leaky ReLU, Parametric ReLU (PReLU), and ELU have been introduced to address the dying ReLU problem by allowing a small, non-zero gradient for negative inputs."
   ]
  },
  {
   "cell_type": "markdown",
   "id": "81a20a09",
   "metadata": {},
   "source": [
    "### **Variants of ReLU Activation**\n",
    "\n",
    "#### **The Dying ReLU Problem**\n",
    "The Dying ReLU problem occurs in neural networks when neurons become inactive and only output zero for any input, effectively \"dying\" and ceasing to contribute to the learning process. This problem arises due to the nature of the ReLU activation function, especially during the training process when weights are updated via backpropagation.\n",
    "\n",
    "During training, if a large number of neurons in a layer consistently receive negative inputs, these neurons will output zero and their gradients will also be zero. Consequently, these neurons do not contribute to the model's learning since their weights do not get updated (because the gradient of ReLU for $ x \\leq 0 $ is zero). If too many neurons \"die\" this way, it can severely degrade the model's performance.\n",
    "\n",
    "**Mathematical Formulation:**\n",
    "\n",
    "- Let $a_i$ be the activation of the $(i)$-th neuron after applying ReLU:\n",
    "    $$a_i = \\text{ReLU}(z_i) = \\max(0, z_i)$$\n",
    "    where $z_i = w_i^Tx + b$, with $w_i$ being the weight vector, $x$ the input, and $b_i$ the bias.\n",
    "\n",
    "- The gradient of the loss function $L$ with respect to input $z_i$ of ReLU is:\n",
    "    $$  \n",
    "    \\frac{\\partial L}{\\partial z_i} = \\begin{cases}\n",
    "    \\frac{\\partial L}{\\partial a_i} & \\text{if } z_i > 0 \\\\\n",
    "    0 & \\text{if } z_i \\leq 0\n",
    "    \\end{cases}\n",
    "    $$\n",
    "\n",
    "- If $ z_i \\leq 0 $, the gradient becomes zero, leading to no weight update:\n",
    "  $$\n",
    "  \\Delta w_i = -\\eta \\frac{\\partial L}{\\partial w_i} = 0\n",
    "  $$\n",
    "  where $ \\eta $ is the learning rate."
   ]
  },
  {
   "cell_type": "markdown",
   "id": "4ac20a42",
   "metadata": {},
   "source": [
    "#### 1. **Leaky ReLU:**\n",
    "Leaky ReLU is a variant of the Rectified Linear Unit (ReLU) activation function designed to address the Dying ReLU problem. It is defined by the following formula:\n",
    "$$\n",
    "    \\text{Leaky ReLU}(x) = \\begin{cases}\n",
    "    x & \\text{if } x > 0 \\\\\n",
    "    0.01 x & \\text{if } x \\leq 0\n",
    "    \\end{cases}\n",
    "$$\n",
    "where $0.01$ is a small positive constant.\n",
    "\n",
    "<img src=\"https://www.researchgate.net/publication/358306930/figure/fig2/AS:1119417702318091@1643901386378/ReLU-activation-function-vs-LeakyReLU-activation-function_W640.jpg\" width=\"60%\">\n",
    "\n",
    "<img src=\"https://miro.medium.com/v2/resize:fit:2000/1*Ho3rj6FyQTdbQdvOeyACXA.png\" width=\"60%\">\n",
    "\n",
    "**Characteristics:**\n",
    "1. **Non-Linearity**: Like ReLU, Leaky ReLU is non-linear, allowing the network to capture complex patterns.\n",
    "   \n",
    "2. **Non-Zero Gradient for Negative Inputs**: Unlike standard ReLU, which outputs zero for negative inputs, Leaky ReLU assigns a small, non-zero slope for negative inputs. This ensures that the neuron continues to learn, as the gradient is non-zero for negative inputs.\n",
    "   \n",
    "3. **Output Range**: The output of Leaky ReLU can range from $-\\infty$ to $ \\infty $, depending on the input.\n",
    "   \n",
    "4. **Avoiding the Dying ReLU Problem**: By allowing a small negative slope for negative inputs, Leaky ReLU prevents neurons from getting stuck and \"dying\" (outputting zero for all inputs).\n",
    "   \n",
    "5. **Differentiable**: The Leaky ReLU function is differentiable, making it compatible with gradient-based optimization methods like backpropagation.\n",
    "   \n",
    "6. **Zero-Centered**: Leaky ReLU is not zero-centered, as it outputs positive values for positive inputs and negative values (though small) for negative inputs. However, it still performs well in practice."
   ]
  },
  {
   "cell_type": "markdown",
   "id": "a819d390",
   "metadata": {},
   "source": [
    "#### 2. **Parametric ReLU (PReLU):**\n",
    "Parametric ReLU (PReLU) is a variant of the ReLU (Rectified Linear Unit) activation function designed to improve upon the standard ReLU and its variant, Leaky ReLU, by allowing the slope of the function for negative inputs to be learned during training. This provides more flexibility and adaptability to the network. It is defined by the following formula:\n",
    "\n",
    "$$\n",
    "    \\text{PReLU}(x) = \\begin{cases}\n",
    "    x & \\text{if } x > 0 \\\\\n",
    "    \\alpha_i x & \\text{if } x \\leq 0\n",
    "    \\end{cases}\n",
    "$$\n",
    "where $ \\alpha_i $ is a learnable parameter for each neuron, rather than a fixed constant like in Leaky ReLU.\n",
    "\n",
    "<img src=\"https://blogs.brain-mentors.com/content/images/2022/06/2813863991-5e720eab30026_articlex.png\" width=\"60%\">\n",
    "\n",
    "**Characteristics:**\n",
    "1. **Learnable Slope**: Unlike Leaky ReLU, where the slope for negative inputs $( \\alpha )$ is fixed, PReLU allows this slope to be a parameter that is learned from the data during the training process. This means each neuron can have its own slope $ \\alpha_i $ for negative inputs, allowing the network to adapt more effectively to the specific data.\n",
    "   \n",
    "2. **Non-Linearity**: Like ReLU and Leaky ReLU, PReLU is non-linear, which enables the network to model complex relationships in the data.\n",
    "   \n",
    "3. **Output Range**: The output of PReLU can range from $-\\infty$ to $ \\infty $, depending on the input.\n",
    "   \n",
    "4. **Avoids the Dying ReLU Problem**: Similar to Leaky ReLU, PReLU mitigates the Dying ReLU problem by ensuring that neurons have a non-zero gradient even for negative inputs. However, it improves upon Leaky ReLU by allowing the network to learn the best slope for negative values during training.\n",
    "   \n",
    "5. **Differentiable**: PReLU is differentiable, making it compatible with gradient-based optimization methods like backpropagation.\n",
    "   \n",
    "6. **Zero-Centered**: Like ReLU and Leaky ReLU, PReLU is not zero-centered, meaning it can output positive or negative values depending on the input."
   ]
  },
  {
   "cell_type": "markdown",
   "id": "f9f97aba",
   "metadata": {},
   "source": [
    "#### 3. **Exponential Linear Unit (ELU):**\n",
    "The Exponential Linear Unit (ELU) is an activation function designed to address some of the limitations of the ReLU (Rectified Linear Unit) and its variants. ELU helps to improve the learning dynamics of deep neural networks by introducing a smoother transition from negative to positive values, which can lead to faster learning and better performance. It is defined by the following formula:\n",
    "$$\n",
    "\\text{ELU}(x) = \\begin{cases}\n",
    "    x & \\text{if } x > 0 \\\\\n",
    "    \\alpha (e^x - 1) & \\text{if } x \\leq 0\n",
    "\\end{cases}\n",
    "$$\n",
    "where $ \\alpha $ is a hyperparameter that controls the value to which ELU saturates for negative inputs. Typically, $ \\alpha $ is set to 1.\n",
    "\n",
    "<img src=\"https://i0.wp.com/sefiks.com/wp-content/uploads/2018/01/elu-derivative.png?resize=654%2C422&ssl=1\" width=\"60%\">\n",
    "<img src=\"https://tungmphung.com/wp-content/uploads/2020/02/elu_function.png\" width=\"60%\">\n",
    "\n",
    "**Characteristics:**\n",
    "\n",
    "1. **Non-Linearity**: ELU is a non-linear activation function, which enables the network to model complex patterns in the data.\n",
    "   \n",
    "2. **Smoother Transition**: Unlike ReLU, which has a sharp change at $ x = 0 $, ELU provides a smooth and continuous transition between the negative and positive parts of the function. This smoothness can improve the learning dynamics and make optimization easier.\n",
    "   \n",
    "3. **Negative Values**: ELU allows negative values for inputs less than zero. This negative output helps to push the mean activation closer to zero, which can make the learning process more efficient by reducing bias shifts.\n",
    "   \n",
    "4. **Avoids the Dying ReLU Problem**: ELU helps mitigate the Dying ReLU problem by allowing negative values. Even for negative inputs, ELU outputs a non-zero value (except for large negative inputs where the output saturates to $-\\alpha\\$, which helps in maintaining active gradients and continued learning.\n",
    "   \n",
    "5. **Differentiable**: The ELU function is differentiable, which is essential for backpropagation during training.\n",
    "   \n",
    "6. **Output Range**: The output of ELU ranges from $-\\alpha$ to $ \\infty $. For positive inputs, the output is unbounded, similar to ReLU, while for negative inputs, the output saturates at $-\\alpha$.\n",
    "   \n",
    "7. **Parameter $ \\alpha $**: The parameter $ \\alpha $ controls the saturation point for negative inputs. It is usually set to 1, but it can be tuned depending on the specific application."
   ]
  },
  {
   "cell_type": "markdown",
   "id": "5a657765",
   "metadata": {},
   "source": [
    "#### 4. **Scaled Exponential Linear Unit (SELU):**\n",
    " The Scaled Exponential Linear Unit (SELU) is an activation function designed to improve the learning dynamics of deep neural networks. It is a self-normalizing activation function, meaning it helps to maintain a mean of zero and unit variance throughout the network, which can significantly enhance training stability and performance. It is defined by the following formula:\n",
    "\n",
    " $$\n",
    "    \\text{SELU}(x) = \\lambda \\begin{cases}\n",
    "    x & \\text{if } x > 0 \\\\\n",
    "    \\alpha (e^x - 1) & \\text{if } x \\leq 0\n",
    "    \\end{cases}\n",
    " $$\n",
    "\n",
    "where $ \\alpha $ and $ \\lambda $ are predefined constants:\n",
    "   - Typically, $ \\alpha \\approx 1.6733 $\n",
    "   - Typically, $ \\lambda \\approx 1.0507 $\n",
    "\n",
    "\n",
    "<img src=\"https://miro.medium.com/v2/resize:fit:1400/1*4IEHWYphW2juRfbCJPQt_w.png\" width=\"60%\">\n",
    "\n",
    "**Characteristics:**\n",
    "1. **Non-Linearity**: SELU is a non-linear activation function, which enables the network to capture complex patterns in the data.\n",
    "   \n",
    "2. **Self-Normalizing**: The primary advantage of SELU is its self-normalizing property. It helps to maintain zero mean and unit variance throughout the layers of the network, which stabilizes the training process and allows for faster convergence.\n",
    "   \n",
    "3. **Negative Values**: Similar to ELU, SELU outputs negative values for negative inputs. This negative saturation helps to maintain zero-centered outputs, reducing bias shifts.\n",
    "   \n",
    "4. **Avoids the Dying ReLU Problem**: By allowing negative values and ensuring a non-zero gradient for all inputs, SELU helps to avoid the Dying ReLU problem, where neurons stop learning due to zero gradients.\n",
    "   \n",
    "5. **Differentiable**: The SELU function is differentiable, making it compatible with gradient-based optimization methods such as backpropagation.\n",
    "   \n",
    "6. **Output Range**: The output of SELU ranges from $ \\lambda \\alpha (e^x - 1) $ for negative inputs to $ \\lambda x $ for positive inputs."
   ]
  }
 ],
 "metadata": {
  "kernelspec": {
   "display_name": "Python 3 (ipykernel)",
   "language": "python",
   "name": "python3"
  },
  "language_info": {
   "codemirror_mode": {
    "name": "ipython",
    "version": 3
   },
   "file_extension": ".py",
   "mimetype": "text/x-python",
   "name": "python",
   "nbconvert_exporter": "python",
   "pygments_lexer": "ipython3",
   "version": "3.12.2"
  }
 },
 "nbformat": 4,
 "nbformat_minor": 5
}
